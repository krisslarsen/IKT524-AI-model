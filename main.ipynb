{
 "cells": [
  {
   "metadata": {},
   "cell_type": "markdown",
   "source": [
    "# This is the main.ipynb file for the IKT524 Digital Health: Advanced course at UIA Grimstad autumn 2025\n",
    "This is the main file used to run the image recognizion of food"
   ],
   "id": "a6c4be41d5545319"
  },
  {
   "metadata": {},
   "cell_type": "markdown",
   "source": "Enviroment check",
   "id": "c22a858aca950a3"
  },
  {
   "metadata": {
    "ExecuteTime": {
     "end_time": "2025-10-06T14:42:10.769441Z",
     "start_time": "2025-10-06T14:42:08.293655Z"
    }
   },
   "cell_type": "code",
   "source": [
    "import os, sys\n",
    "sys.path.append(os.path.abspath(\"utilities/util_functions\"))\n",
    "from util_helper_functions import util_find_existing_model, util_test_basemodel\n",
    "\n",
    "# 🔹 List all models in the folder\n",
    "util_find_existing_model()\n",
    "\n",
    "# 🔹 Find a specific one\n",
    "util_find_existing_model(\"yolo11n\")\n",
    "\n",
    "# Run a one-liner model test\n",
    "util_test_basemodel()\n"
   ],
   "id": "ceb950d24db0e609",
   "outputs": [
    {
     "name": "stdout",
     "output_type": "stream",
     "text": [
      "✅ Found model: /home/kristoffel/models/yolo11n-seg.pt\n",
      "✅ Found model: /home/kristoffel/models/yolo11n.pt\n",
      "✅ Found local weight: /home/kristoffel/models/yolo11n.pt\n",
      "🖼️ Using test image: /home/kristoffel/utilities/util_test_images/Banana-Single.jpg\n",
      "\n",
      "image 1/1 /home/kristoffel/utilities/util_test_images/Banana-Single.jpg: 576x640 1 banana, 60.8ms\n",
      "Speed: 7.5ms preprocess, 60.8ms inference, 158.6ms postprocess per image at shape (1, 3, 576, 640)\n",
      "✅ Model test successful, image identified as: banana\n"
     ]
    },
    {
     "data": {
      "text/plain": [
       "'✅ Model test successful, image identified as: banana'"
      ]
     },
     "execution_count": 2,
     "metadata": {},
     "output_type": "execute_result"
    }
   ],
   "execution_count": 2
  },
  {
   "cell_type": "code",
   "id": "initial_id",
   "metadata": {
    "collapsed": true
   },
   "source": [
    "from ultralytics import YOLO\n",
    "\n",
    "# Load a pretrained YOLO11n model\n",
    "model = YOLO(\"yolo11n.pt\")\n",
    "\n",
    "# Train the model on the COCO8 dataset for 100 epochs\n",
    "train_results = model.train(\n",
    "    data=\"coco8.yaml\",  # Path to dataset configuration file\n",
    "    epochs=100,  # Number of training epochs\n",
    "    imgsz=640,  # Image size for training\n",
    "    device=\"cpu\",  # Device to run on (e.g., 'cpu', 0, [0,1,2,3])\n",
    ")\n",
    "\n",
    "# Evaluate the model's performance on the validation set\n",
    "metrics = model.val()\n",
    "\n",
    "# Perform object detection on an image\n",
    "results = model(\"path/to/image.jpg\")  # Predict on an image\n",
    "results[0].show()  # Display results\n",
    "\n",
    "# Export the model to ONNX format for deployment\n",
    "path = model.export(format=\"onnx\")  # Returns the path to the exported model"
   ],
   "outputs": [],
   "execution_count": null
  },
  {
   "metadata": {},
   "cell_type": "code",
   "outputs": [],
   "execution_count": null,
   "source": "",
   "id": "a9d2d2522e82d9f8"
  }
 ],
 "metadata": {
  "kernelspec": {
   "display_name": "Python 3",
   "language": "python",
   "name": "python3"
  },
  "language_info": {
   "codemirror_mode": {
    "name": "ipython",
    "version": 2
   },
   "file_extension": ".py",
   "mimetype": "text/x-python",
   "name": "python",
   "nbconvert_exporter": "python",
   "pygments_lexer": "ipython2",
   "version": "2.7.6"
  }
 },
 "nbformat": 4,
 "nbformat_minor": 5
}
