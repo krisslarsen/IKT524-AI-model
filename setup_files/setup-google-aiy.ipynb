{
 "cells": [
  {
   "metadata": {},
   "cell_type": "markdown",
   "source": "# Test",
   "id": "b2e69b38f8042d35"
  },
  {
   "metadata": {
    "ExecuteTime": {
     "end_time": "2025-09-18T08:57:59.992412Z",
     "start_time": "2025-09-18T08:57:52.697140Z"
    }
   },
   "cell_type": "code",
   "source": [
    "!{sys.executable} -m pip install --user -U kagglehub\n",
    "!{sys.executable} -m pip install --user tflite-support\n",
    "!{sys.executable} -m pip install --user tflite-runtime\n"
   ],
   "id": "53e4f18fd96fd474",
   "outputs": [
    {
     "name": "stdout",
     "output_type": "stream",
     "text": [
      "Looking in indexes: https://pypi.org/simple, https://pypi.ngc.nvidia.com\r\n",
      "Requirement already satisfied: kagglehub in ./.local/lib/python3.10/site-packages (0.3.13)\r\n",
      "Requirement already satisfied: packaging in /usr/local/lib/python3.10/dist-packages (from kagglehub) (23.2)\r\n",
      "Requirement already satisfied: pyyaml in /usr/local/lib/python3.10/dist-packages (from kagglehub) (6.0.1)\r\n",
      "Requirement already satisfied: requests in /usr/local/lib/python3.10/dist-packages (from kagglehub) (2.31.0)\r\n",
      "Requirement already satisfied: tqdm in /usr/local/lib/python3.10/dist-packages (from kagglehub) (4.66.1)\r\n",
      "Requirement already satisfied: charset-normalizer<4,>=2 in /usr/local/lib/python3.10/dist-packages (from requests->kagglehub) (3.3.2)\r\n",
      "Requirement already satisfied: idna<4,>=2.5 in /usr/local/lib/python3.10/dist-packages (from requests->kagglehub) (3.6)\r\n",
      "Requirement already satisfied: urllib3<3,>=1.21.1 in /usr/local/lib/python3.10/dist-packages (from requests->kagglehub) (1.26.18)\r\n",
      "Requirement already satisfied: certifi>=2017.4.17 in /usr/local/lib/python3.10/dist-packages (from requests->kagglehub) (2023.11.17)\r\n",
      "Looking in indexes: https://pypi.org/simple, https://pypi.ngc.nvidia.com\r\n",
      "Requirement already satisfied: tflite-support in ./.local/lib/python3.10/site-packages (0.4.4)\r\n",
      "Requirement already satisfied: absl-py>=0.7.0 in /usr/local/lib/python3.10/dist-packages (from tflite-support) (2.1.0)\r\n",
      "Requirement already satisfied: numpy>=1.20.0 in /usr/local/lib/python3.10/dist-packages (from tflite-support) (1.24.4)\r\n",
      "Requirement already satisfied: flatbuffers>=2.0 in ./.local/lib/python3.10/site-packages (from tflite-support) (25.2.10)\r\n",
      "Requirement already satisfied: protobuf<4,>=3.18.0 in ./.local/lib/python3.10/site-packages (from tflite-support) (3.20.3)\r\n",
      "Requirement already satisfied: sounddevice>=0.4.4 in ./.local/lib/python3.10/site-packages (from tflite-support) (0.5.2)\r\n",
      "Requirement already satisfied: pybind11>=2.6.0 in /usr/local/lib/python3.10/dist-packages (from tflite-support) (2.11.1)\r\n",
      "Requirement already satisfied: CFFI>=1.0 in /usr/local/lib/python3.10/dist-packages (from sounddevice>=0.4.4->tflite-support) (1.16.0)\r\n",
      "Requirement already satisfied: pycparser in /usr/local/lib/python3.10/dist-packages (from CFFI>=1.0->sounddevice>=0.4.4->tflite-support) (2.21)\r\n",
      "Looking in indexes: https://pypi.org/simple, https://pypi.ngc.nvidia.com\r\n",
      "Requirement already satisfied: tflite-runtime in ./.local/lib/python3.10/site-packages (2.14.0)\r\n",
      "Requirement already satisfied: numpy>=1.23.2 in /usr/local/lib/python3.10/dist-packages (from tflite-runtime) (1.24.4)\r\n"
     ]
    }
   ],
   "execution_count": 13
  },
  {
   "metadata": {},
   "cell_type": "markdown",
   "source": [
    "## **Step 0**\n",
    "Installing kagglehub to get the google aiy model"
   ],
   "id": "fd16fd10594a6169"
  },
  {
   "cell_type": "code",
   "id": "initial_id",
   "metadata": {
    "collapsed": true,
    "ExecuteTime": {
     "end_time": "2025-09-18T08:58:06.592812Z",
     "start_time": "2025-09-18T08:58:06.222299Z"
    }
   },
   "source": [
    "import kagglehub\n",
    "\n",
    "# Download latest version\n",
    "path = kagglehub.model_download(\"google/aiy/tfLite/vision-classifier-food-v1\")\n",
    "\n",
    "print(\"Path to model files:\", path)"
   ],
   "outputs": [
    {
     "name": "stdout",
     "output_type": "stream",
     "text": [
      "Path to model files: /home/kristoffel/.cache/kagglehub/models/google/aiy/tfLite/vision-classifier-food-v1/1\n"
     ]
    }
   ],
   "execution_count": 14
  },
  {
   "metadata": {},
   "cell_type": "markdown",
   "source": [
    "## **Step 1**\n",
    "Downloading the model"
   ],
   "id": "6d10bd3a3e0570ff"
  },
  {
   "metadata": {
    "ExecuteTime": {
     "end_time": "2025-09-18T08:58:12.308922Z",
     "start_time": "2025-09-18T08:58:11.954257Z"
    }
   },
   "cell_type": "code",
   "source": [
    "import os, kagglehub\n",
    "\n",
    "# Download model (if not already cached)\n",
    "food_dir = kagglehub.model_download(\"google/aiy/tfLite/vision-classifier-food-v1\")\n",
    "print(\"Model dir:\", food_dir)\n",
    "print(\"Contents:\", os.listdir(food_dir))\n",
    "\n",
    "# Helper to find the .tflite file\n",
    "def find_tflite(base_dir):\n",
    "    for root, _, files in os.walk(base_dir):\n",
    "        for f in files:\n",
    "            if f.lower().endswith(\".tflite\"):\n",
    "                return os.path.join(root, f)\n",
    "    raise FileNotFoundError(\"No .tflite file found\")\n",
    "\n",
    "model_path = find_tflite(food_dir)\n",
    "print(\"Using model:\", model_path)\n",
    "\n",
    "# Helper to load labels if provided\n",
    "def load_labels(base_dir):\n",
    "    for root, _, files in os.walk(base_dir):\n",
    "        for f in files:\n",
    "            if f in (\"labels.txt\", \"labelmap.txt\", \"labels.csv\"):\n",
    "                with open(os.path.join(root, f), \"r\", encoding=\"utf-8\") as fh:\n",
    "                    return [ln.strip() for ln in fh if ln.strip()]\n",
    "    return None\n",
    "\n",
    "labels = load_labels(food_dir)\n",
    "print(\"Labels loaded:\", labels is not None, f\"(n={len(labels) if labels else 'N/A'})\")\n"
   ],
   "id": "e943f6da83eeb6f6",
   "outputs": [
    {
     "name": "stdout",
     "output_type": "stream",
     "text": [
      "Model dir: /home/kristoffel/.cache/kagglehub/models/google/aiy/tfLite/vision-classifier-food-v1/1\n",
      "Contents: ['1.tflite']\n",
      "Using model: /home/kristoffel/.cache/kagglehub/models/google/aiy/tfLite/vision-classifier-food-v1/1/1.tflite\n",
      "Labels loaded: False (n=N/A)\n"
     ]
    }
   ],
   "execution_count": 16
  },
  {
   "metadata": {
    "ExecuteTime": {
     "end_time": "2025-09-18T08:58:34.172719Z",
     "start_time": "2025-09-18T08:58:34.090044Z"
    }
   },
   "cell_type": "code",
   "source": [
    "from tflite_runtime.interpreter import Interpreter\n",
    "from tflite_support import metadata\n",
    "\n",
    "model_path = \"/home/kristoffel/.cache/kagglehub/models/google/aiy/tfLite/vision-classifier-food-v1/1/1.tflite\"\n",
    "\n",
    "# Load metadata\n",
    "displayer = metadata.MetadataDisplayer.with_model_file(model_path)\n",
    "\n",
    "print(\"Associated files:\", displayer.get_packed_associated_file_list())\n",
    "\n",
    "# If a labels file is embedded, you can extract it:\n",
    "for fname in displayer.get_packed_associated_file_list():\n",
    "    if \"label\" in fname.lower():\n",
    "        labels = displayer.get_associated_file_buffer(fname).decode(\"utf-8\").splitlines()\n",
    "        print(\"Found labels:\", labels[:10], \"... total:\", len(labels))\n"
   ],
   "id": "a39cccd44bcc28b1",
   "outputs": [
    {
     "ename": "ImportError",
     "evalue": "libusb-1.0.so.0: cannot open shared object file: No such file or directory",
     "output_type": "error",
     "traceback": [
      "\u001B[0;31m---------------------------------------------------------------------------\u001B[0m",
      "\u001B[0;31mImportError\u001B[0m                               Traceback (most recent call last)",
      "Cell \u001B[0;32mIn[18], line 2\u001B[0m\n\u001B[1;32m      1\u001B[0m \u001B[38;5;28;01mfrom\u001B[39;00m \u001B[38;5;21;01mtflite_runtime\u001B[39;00m\u001B[38;5;21;01m.\u001B[39;00m\u001B[38;5;21;01minterpreter\u001B[39;00m \u001B[38;5;28;01mimport\u001B[39;00m Interpreter\n\u001B[0;32m----> 2\u001B[0m \u001B[38;5;28;01mfrom\u001B[39;00m \u001B[38;5;21;01mtflite_support\u001B[39;00m \u001B[38;5;28;01mimport\u001B[39;00m metadata\n\u001B[1;32m      4\u001B[0m model_path \u001B[38;5;241m=\u001B[39m \u001B[38;5;124m\"\u001B[39m\u001B[38;5;124m/home/kristoffel/.cache/kagglehub/models/google/aiy/tfLite/vision-classifier-food-v1/1/1.tflite\u001B[39m\u001B[38;5;124m\"\u001B[39m\n\u001B[1;32m      6\u001B[0m \u001B[38;5;66;03m# Load metadata\u001B[39;00m\n",
      "File \u001B[0;32m~/.local/lib/python3.10/site-packages/tflite_support/__init__.py:48\u001B[0m\n\u001B[1;32m     46\u001B[0m \u001B[38;5;28;01mfrom\u001B[39;00m \u001B[38;5;21;01mtensorflow_lite_support\u001B[39;00m\u001B[38;5;21;01m.\u001B[39;00m\u001B[38;5;21;01mmetadata\u001B[39;00m \u001B[38;5;28;01mimport\u001B[39;00m metadata_schema_py_generated\n\u001B[1;32m     47\u001B[0m \u001B[38;5;28;01mfrom\u001B[39;00m \u001B[38;5;21;01mtensorflow_lite_support\u001B[39;00m\u001B[38;5;21;01m.\u001B[39;00m\u001B[38;5;21;01mmetadata\u001B[39;00m \u001B[38;5;28;01mimport\u001B[39;00m schema_py_generated\n\u001B[0;32m---> 48\u001B[0m \u001B[38;5;28;01mfrom\u001B[39;00m \u001B[38;5;21;01mtensorflow_lite_support\u001B[39;00m\u001B[38;5;21;01m.\u001B[39;00m\u001B[38;5;21;01mmetadata\u001B[39;00m\u001B[38;5;21;01m.\u001B[39;00m\u001B[38;5;21;01mpython\u001B[39;00m \u001B[38;5;28;01mimport\u001B[39;00m metadata\n\u001B[1;32m     49\u001B[0m \u001B[38;5;28;01mfrom\u001B[39;00m \u001B[38;5;21;01mtflite_support\u001B[39;00m \u001B[38;5;28;01mimport\u001B[39;00m metadata_writers\n\u001B[1;32m     51\u001B[0m \u001B[38;5;28;01mif\u001B[39;00m platform\u001B[38;5;241m.\u001B[39msystem() \u001B[38;5;241m!=\u001B[39m \u001B[38;5;124m'\u001B[39m\u001B[38;5;124mWindows\u001B[39m\u001B[38;5;124m'\u001B[39m:\n\u001B[1;32m     52\u001B[0m   \u001B[38;5;66;03m# Task Library is not supported on Windows yet.\u001B[39;00m\n",
      "File \u001B[0;32m~/.local/lib/python3.10/site-packages/tensorflow_lite_support/metadata/python/metadata.py:30\u001B[0m\n\u001B[1;32m     28\u001B[0m \u001B[38;5;28;01mfrom\u001B[39;00m \u001B[38;5;21;01mtensorflow_lite_support\u001B[39;00m\u001B[38;5;21;01m.\u001B[39;00m\u001B[38;5;21;01mmetadata\u001B[39;00m \u001B[38;5;28;01mimport\u001B[39;00m metadata_schema_py_generated \u001B[38;5;28;01mas\u001B[39;00m _metadata_fb\n\u001B[1;32m     29\u001B[0m \u001B[38;5;28;01mfrom\u001B[39;00m \u001B[38;5;21;01mtensorflow_lite_support\u001B[39;00m\u001B[38;5;21;01m.\u001B[39;00m\u001B[38;5;21;01mmetadata\u001B[39;00m \u001B[38;5;28;01mimport\u001B[39;00m schema_py_generated \u001B[38;5;28;01mas\u001B[39;00m _schema_fb\n\u001B[0;32m---> 30\u001B[0m \u001B[38;5;28;01mfrom\u001B[39;00m \u001B[38;5;21;01mtensorflow_lite_support\u001B[39;00m\u001B[38;5;21;01m.\u001B[39;00m\u001B[38;5;21;01mmetadata\u001B[39;00m\u001B[38;5;21;01m.\u001B[39;00m\u001B[38;5;21;01mcc\u001B[39;00m\u001B[38;5;21;01m.\u001B[39;00m\u001B[38;5;21;01mpython\u001B[39;00m \u001B[38;5;28;01mimport\u001B[39;00m _pywrap_metadata_version\n\u001B[1;32m     31\u001B[0m \u001B[38;5;28;01mfrom\u001B[39;00m \u001B[38;5;21;01mtensorflow_lite_support\u001B[39;00m\u001B[38;5;21;01m.\u001B[39;00m\u001B[38;5;21;01mmetadata\u001B[39;00m\u001B[38;5;21;01m.\u001B[39;00m\u001B[38;5;21;01mflatbuffers_lib\u001B[39;00m \u001B[38;5;28;01mimport\u001B[39;00m _pywrap_flatbuffers\n\u001B[1;32m     33\u001B[0m \u001B[38;5;28;01mtry\u001B[39;00m:\n\u001B[1;32m     34\u001B[0m   \u001B[38;5;66;03m# If exists, optionally use TensorFlow to open and check files. Used to\u001B[39;00m\n\u001B[1;32m     35\u001B[0m   \u001B[38;5;66;03m# support more than local file systems.\u001B[39;00m\n\u001B[1;32m     36\u001B[0m   \u001B[38;5;66;03m# In pip requirements, we doesn't necessarily need tensorflow as a dep.\u001B[39;00m\n",
      "\u001B[0;31mImportError\u001B[0m: libusb-1.0.so.0: cannot open shared object file: No such file or directory"
     ]
    }
   ],
   "execution_count": 18
  },
  {
   "metadata": {},
   "cell_type": "markdown",
   "source": [
    "## **Step 2**\n",
    "Locate the model and labels"
   ],
   "id": "c6d64d85db5cd96b"
  },
  {
   "metadata": {
    "ExecuteTime": {
     "end_time": "2025-09-18T10:23:58.726025Z",
     "start_time": "2025-09-18T10:23:58.507378Z"
    }
   },
   "cell_type": "code",
   "source": [
    "import os, numpy as np\n",
    "from PIL import Image\n",
    "import tflite_runtime.interpreter as tflite\n",
    "\n",
    "# Point this to the path you printed from kagglehub:\n",
    "food_dir = \"/home/kristoffel/.cache/kagglehub/models/google/aiy/tfLite/vision-classifier-food-v1/1\"\n",
    "image_path = \"Banana-Single.jpg\"  # <- change to your test image\n",
    "\n",
    "def find_tflite(base_dir):\n",
    "    for root, _, files in os.walk(base_dir):\n",
    "        for f in files:\n",
    "            if f.lower().endswith(\".tflite\"):\n",
    "                return os.path.join(root, f)\n",
    "    raise FileNotFoundError(\"No .tflite found under \" + base_dir)\n",
    "\n",
    "def load_labels(base_dir):\n",
    "    # common label file names\n",
    "    candidates = (\"labels.txt\", \"labelmap.txt\", \"labels.csv\")\n",
    "    for name in candidates:\n",
    "        p = os.path.join(base_dir, name)\n",
    "        if os.path.exists(p):\n",
    "            with open(p, \"r\", encoding=\"utf-8\") as f:\n",
    "                return [ln.strip() for ln in f if ln.strip()]\n",
    "    # also check subfolders\n",
    "    for root, _, files in os.walk(base_dir):\n",
    "        for f in files:\n",
    "            if f in candidates:\n",
    "                with open(os.path.join(root, f), \"r\", encoding=\"utf-8\") as fh:\n",
    "                    return [ln.strip() for ln in fh if ln.strip()]\n",
    "    return None\n",
    "\n",
    "model_path = find_tflite(food_dir)\n",
    "labels = load_labels(food_dir)\n",
    "print(\"Using model:\", model_path)\n",
    "print(\"Labels loaded:\", labels is not None, f\"(n={len(labels) if labels else 'N/A'})\")\n",
    "\n",
    "# Init interpreter\n",
    "interpreter = tflite.Interpreter(model_path=model_path)\n",
    "interpreter.allocate_tensors()\n",
    "inp  = interpreter.get_input_details()[0]\n",
    "outp = interpreter.get_output_details()[0]\n",
    "print(\"Input details:\", inp)\n",
    "print(\"Output details:\", outp)\n",
    "\n",
    "# Prepare image with correct size & dtype\n",
    "H, W = int(inp[\"shape\"][1]), int(inp[\"shape\"][2])\n",
    "img = Image.open(image_path).convert(\"RGB\").resize((W, H))\n",
    "\n",
    "if inp[\"dtype\"] == np.uint8:\n",
    "    x = np.expand_dims(np.array(img, dtype=np.uint8), 0)     # quantized path\n",
    "else:\n",
    "    x = np.expand_dims(np.array(img, dtype=np.float32)/255., 0)  # float path\n",
    "\n",
    "# Inference\n",
    "interpreter.set_tensor(inp[\"index\"], x)\n",
    "interpreter.invoke()\n",
    "y = interpreter.get_tensor(outp[\"index\"])[0]\n",
    "\n",
    "# Dequantize if needed\n",
    "if outp[\"dtype\"] == np.uint8:\n",
    "    scale, zero = outp[\"quantization\"]\n",
    "    probs = (y.astype(np.float32) - zero) * scale\n",
    "else:\n",
    "    probs = y.astype(np.float32)\n",
    "\n",
    "# Top-5\n",
    "top5 = probs.argsort()[-5:][::-1]\n",
    "print(\"\\nTop-5 predictions:\")\n",
    "for i in top5:\n",
    "    name = labels[i] if labels and i < len(labels) else f\"class_{i}\"\n",
    "    print(f\"{name:30s}  {probs[i]:.3f}\")\n"
   ],
   "id": "7a9a57c8f408f6a3",
   "outputs": [
    {
     "name": "stdout",
     "output_type": "stream",
     "text": [
      "Using model: /home/kristoffel/.cache/kagglehub/models/google/aiy/tfLite/vision-classifier-food-v1/1/1.tflite\n",
      "Labels loaded: False (n=N/A)\n",
      "Input details: {'name': 'input', 'index': 0, 'shape': array([  1, 192, 192,   3], dtype=int32), 'shape_signature': array([  1, 192, 192,   3], dtype=int32), 'dtype': <class 'numpy.uint8'>, 'quantization': (0.0078125, 128), 'quantization_parameters': {'scales': array([0.0078125], dtype=float32), 'zero_points': array([128], dtype=int32), 'quantized_dimension': 0}, 'sparsity_parameters': {}}\n",
      "Output details: {'name': 'MobilenetV1/Predictions/Softmax', 'index': 90, 'shape': array([   1, 2024], dtype=int32), 'shape_signature': array([   1, 2024], dtype=int32), 'dtype': <class 'numpy.uint8'>, 'quantization': (0.00390625, 0), 'quantization_parameters': {'scales': array([0.00390625], dtype=float32), 'zero_points': array([0], dtype=int32), 'quantized_dimension': 0}, 'sparsity_parameters': {}}\n",
      "\n",
      "Top-5 predictions:\n",
      "class_1008                      0.164\n",
      "class_315                       0.141\n",
      "class_1351                      0.047\n",
      "class_255                       0.035\n",
      "class_406                       0.031\n"
     ]
    }
   ],
   "execution_count": 19
  },
  {
   "metadata": {},
   "cell_type": "code",
   "source": "",
   "id": "df1c5c403e8ac694",
   "outputs": [],
   "execution_count": null
  }
 ],
 "metadata": {
  "kernelspec": {
   "display_name": "Python 3",
   "language": "python",
   "name": "python3"
  },
  "language_info": {
   "codemirror_mode": {
    "name": "ipython",
    "version": 2
   },
   "file_extension": ".py",
   "mimetype": "text/x-python",
   "name": "python",
   "nbconvert_exporter": "python",
   "pygments_lexer": "ipython2",
   "version": "2.7.6"
  }
 },
 "nbformat": 4,
 "nbformat_minor": 5
}
