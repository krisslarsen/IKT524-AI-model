{
 "cells": [
  {
   "metadata": {
    "ExecuteTime": {
     "end_time": "2025-09-22T10:59:00.939190Z",
     "start_time": "2025-09-22T10:59:00.920325Z"
    }
   },
   "cell_type": "code",
   "source": [
    "from pathlib import Path\n",
    "\n",
    "print(\"CWD:\", Path.cwd())\n",
    "p = Path(\"utilities/utility_test_images/Banana-Single.jpg\")\n",
    "print(\"Exists?\", p.exists())\n",
    "\n",
    "# If not found, search for it anywhere under the CWD:\n",
    "for hit in Path.cwd().rglob(\"Banana-Single.jpg\"):\n",
    "    print(\"Found at:\", hit)"
   ],
   "id": "6eeb4525d997542",
   "outputs": [
    {
     "name": "stdout",
     "output_type": "stream",
     "text": [
      "CWD: /home/kristoffel\n",
      "Exists? False\n"
     ]
    }
   ],
   "execution_count": 9
  },
  {
   "metadata": {
    "ExecuteTime": {
     "end_time": "2025-09-22T10:59:02.262250Z",
     "start_time": "2025-09-22T10:59:02.245139Z"
    }
   },
   "cell_type": "code",
   "source": [
    "import os\n",
    "\n",
    "# Change working directory to your project root\n",
    "os.chdir(\"/home/kristoffel/IKT524-AI-model\")\n",
    "\n",
    "print(\"New CWD:\", os.getcwd())"
   ],
   "id": "d4c35260927b6ef5",
   "outputs": [
    {
     "ename": "FileNotFoundError",
     "evalue": "[Errno 2] No such file or directory: '/home/kristoffel/IKT524-AI-model'",
     "output_type": "error",
     "traceback": [
      "\u001B[0;31m---------------------------------------------------------------------------\u001B[0m",
      "\u001B[0;31mFileNotFoundError\u001B[0m                         Traceback (most recent call last)",
      "Cell \u001B[0;32mIn[10], line 4\u001B[0m\n\u001B[1;32m      1\u001B[0m \u001B[38;5;28;01mimport\u001B[39;00m \u001B[38;5;21;01mos\u001B[39;00m\n\u001B[1;32m      3\u001B[0m \u001B[38;5;66;03m# Change working directory to your project root\u001B[39;00m\n\u001B[0;32m----> 4\u001B[0m \u001B[43mos\u001B[49m\u001B[38;5;241;43m.\u001B[39;49m\u001B[43mchdir\u001B[49m\u001B[43m(\u001B[49m\u001B[38;5;124;43m\"\u001B[39;49m\u001B[38;5;124;43m/home/kristoffel/IKT524-AI-model\u001B[39;49m\u001B[38;5;124;43m\"\u001B[39;49m\u001B[43m)\u001B[49m\n\u001B[1;32m      6\u001B[0m \u001B[38;5;28mprint\u001B[39m(\u001B[38;5;124m\"\u001B[39m\u001B[38;5;124mNew CWD:\u001B[39m\u001B[38;5;124m\"\u001B[39m, os\u001B[38;5;241m.\u001B[39mgetcwd())\n",
      "\u001B[0;31mFileNotFoundError\u001B[0m: [Errno 2] No such file or directory: '/home/kristoffel/IKT524-AI-model'"
     ]
    }
   ],
   "execution_count": 10
  },
  {
   "cell_type": "code",
   "id": "initial_id",
   "metadata": {
    "collapsed": true
   },
   "source": [
    "import os\n",
    "import cv2\n",
    "import matplotlib.pyplot as plt\n",
    "from ultralytics import YOLO\n",
    "\n",
    "# Make results folder\n",
    "os.makedirs(\"results\", exist_ok=True)\n",
    "\n",
    "# Load model\n",
    "model = YOLO(\"yolo11n.pt\")\n",
    "\n",
    "# Run inference\n",
    "img_path = os.path.join(\"utilities\", \"utility_test_images\", \"Banana-Single.jpg\")\n",
    "results = model(img_path)[0]\n",
    "\n",
    "# Save image in results\n",
    "out_path = os.path.join(\"results\", f\"results_{os.path.basename(img_path)}\")\n",
    "annotated_img = results.plot()   # BGR format (OpenCV)\n",
    "\n",
    "cv2.imwrite(out_path, annotated_img)\n",
    "print(f\"Saved: {out_path}\")\n",
    "\n",
    "# Show image\n",
    "plt.imshow(annotated_img[:, :, ::-1])  # convert BGR → RGB\n",
    "plt.axis(\"off\")\n",
    "plt.show()\n"
   ],
   "outputs": [],
   "execution_count": null
  }
 ],
 "metadata": {
  "kernelspec": {
   "display_name": "Python 3",
   "language": "python",
   "name": "python3"
  },
  "language_info": {
   "codemirror_mode": {
    "name": "ipython",
    "version": 2
   },
   "file_extension": ".py",
   "mimetype": "text/x-python",
   "name": "python",
   "nbconvert_exporter": "python",
   "pygments_lexer": "ipython2",
   "version": "2.7.6"
  }
 },
 "nbformat": 4,
 "nbformat_minor": 5
}
